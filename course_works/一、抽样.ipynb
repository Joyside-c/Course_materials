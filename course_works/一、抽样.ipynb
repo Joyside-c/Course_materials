{
 "cells": [
  {
   "cell_type": "code",
   "execution_count": 1,
   "metadata": {},
   "outputs": [],
   "source": [
    "import numpy as np\n",
    "import pandas as pd\n",
    "import matplotlib.pyplot as plt\n",
    "import scipy\n",
    "import seaborn as sns\n",
    "import math\n",
    "from scipy import log\n",
    "from scipy.optimize import curve_fit"
   ]
  },
  {
   "cell_type": "code",
   "execution_count": 2,
   "metadata": {},
   "outputs": [
    {
     "name": "stderr",
     "output_type": "stream",
     "text": [
      "B:\\anaconda\\lib\\site-packages\\IPython\\core\\interactiveshell.py:3020: DtypeWarning: Columns (0) have mixed types. Specify dtype option on import or set low_memory=False.\n",
      "  interactivity=interactivity, compiler=compiler, result=result)\n"
     ]
    }
   ],
   "source": [
    "data = pd.read_csv(\"loanStats3c.csv\",encoding='ANSI',header=1)"
   ]
  },
  {
   "cell_type": "code",
   "execution_count": 3,
   "metadata": {},
   "outputs": [],
   "source": [
    "data_u=data[['id','installment']]"
   ]
  },
  {
   "cell_type": "code",
   "execution_count": 4,
   "metadata": {},
   "outputs": [
    {
     "data": {
      "text/html": [
       "<div>\n",
       "<style scoped>\n",
       "    .dataframe tbody tr th:only-of-type {\n",
       "        vertical-align: middle;\n",
       "    }\n",
       "\n",
       "    .dataframe tbody tr th {\n",
       "        vertical-align: top;\n",
       "    }\n",
       "\n",
       "    .dataframe thead th {\n",
       "        text-align: right;\n",
       "    }\n",
       "</style>\n",
       "<table border=\"1\" class=\"dataframe\">\n",
       "  <thead>\n",
       "    <tr style=\"text-align: right;\">\n",
       "      <th></th>\n",
       "      <th>id</th>\n",
       "      <th>installment</th>\n",
       "    </tr>\n",
       "  </thead>\n",
       "  <tbody>\n",
       "    <tr>\n",
       "      <td>0</td>\n",
       "      <td>36805548</td>\n",
       "      <td>321.08</td>\n",
       "    </tr>\n",
       "    <tr>\n",
       "      <td>1</td>\n",
       "      <td>38098114</td>\n",
       "      <td>336.64</td>\n",
       "    </tr>\n",
       "    <tr>\n",
       "      <td>2</td>\n",
       "      <td>37662224</td>\n",
       "      <td>260.20</td>\n",
       "    </tr>\n",
       "    <tr>\n",
       "      <td>3</td>\n",
       "      <td>37612354</td>\n",
       "      <td>319.08</td>\n",
       "    </tr>\n",
       "    <tr>\n",
       "      <td>4</td>\n",
       "      <td>37822187</td>\n",
       "      <td>326.53</td>\n",
       "    </tr>\n",
       "    <tr>\n",
       "      <td>...</td>\n",
       "      <td>...</td>\n",
       "      <td>...</td>\n",
       "    </tr>\n",
       "    <tr>\n",
       "      <td>235628</td>\n",
       "      <td>9199665</td>\n",
       "      <td>367.58</td>\n",
       "    </tr>\n",
       "    <tr>\n",
       "      <td>235629</td>\n",
       "      <td>NaN</td>\n",
       "      <td>NaN</td>\n",
       "    </tr>\n",
       "    <tr>\n",
       "      <td>235630</td>\n",
       "      <td>NaN</td>\n",
       "      <td>NaN</td>\n",
       "    </tr>\n",
       "    <tr>\n",
       "      <td>235631</td>\n",
       "      <td>Total amount funded in policy code 1: 3503840175</td>\n",
       "      <td>NaN</td>\n",
       "    </tr>\n",
       "    <tr>\n",
       "      <td>235632</td>\n",
       "      <td>Total amount funded in policy code 2: 873663239</td>\n",
       "      <td>NaN</td>\n",
       "    </tr>\n",
       "  </tbody>\n",
       "</table>\n",
       "<p>235633 rows × 2 columns</p>\n",
       "</div>"
      ],
      "text/plain": [
       "                                                      id  installment\n",
       "0                                               36805548       321.08\n",
       "1                                               38098114       336.64\n",
       "2                                               37662224       260.20\n",
       "3                                               37612354       319.08\n",
       "4                                               37822187       326.53\n",
       "...                                                  ...          ...\n",
       "235628                                           9199665       367.58\n",
       "235629                                               NaN          NaN\n",
       "235630                                               NaN          NaN\n",
       "235631  Total amount funded in policy code 1: 3503840175          NaN\n",
       "235632   Total amount funded in policy code 2: 873663239          NaN\n",
       "\n",
       "[235633 rows x 2 columns]"
      ]
     },
     "execution_count": 4,
     "metadata": {},
     "output_type": "execute_result"
    }
   ],
   "source": [
    "data_u"
   ]
  },
  {
   "cell_type": "code",
   "execution_count": 5,
   "metadata": {},
   "outputs": [
    {
     "name": "stderr",
     "output_type": "stream",
     "text": [
      "B:\\anaconda\\lib\\site-packages\\ipykernel_launcher.py:2: SettingWithCopyWarning: \n",
      "A value is trying to be set on a copy of a slice from a DataFrame\n",
      "\n",
      "See the caveats in the documentation: http://pandas.pydata.org/pandas-docs/stable/user_guide/indexing.html#returning-a-view-versus-a-copy\n",
      "  \n"
     ]
    }
   ],
   "source": [
    "#删掉存在空值的行\n",
    "data_u.dropna(axis=0, how='any', inplace=True)"
   ]
  },
  {
   "cell_type": "code",
   "execution_count": 6,
   "metadata": {},
   "outputs": [
    {
     "name": "stderr",
     "output_type": "stream",
     "text": [
      "B:\\anaconda\\lib\\site-packages\\scipy\\stats\\stats.py:1713: FutureWarning: Using a non-tuple sequence for multidimensional indexing is deprecated; use `arr[tuple(seq)]` instead of `arr[seq]`. In the future this will be interpreted as an array index, `arr[np.array(seq)]`, which will result either in an error or a different result.\n",
      "  return np.add.reduce(sorted[indexer] * weights, axis=axis) / sumval\n"
     ]
    },
    {
     "data": {
      "text/plain": [
       "<matplotlib.axes._subplots.AxesSubplot at 0x20a490d4b00>"
      ]
     },
     "execution_count": 6,
     "metadata": {},
     "output_type": "execute_result"
    },
    {
     "data": {
      "image/png": "[encoded data removed]",
      "text/plain": [
       "<Figure size 432x288 with 1 Axes>"
      ]
     },
     "metadata": {
      "needs_background": "light"
     },
     "output_type": "display_data"
    }
   ],
   "source": [
    "sns.distplot(data_u.installment,color=\"r\",bins=500,kde=True,hist=True,rug=False)"
   ]
  },
  {
   "cell_type": "code",
   "execution_count": 7,
   "metadata": {},
   "outputs": [
    {
     "data": {
      "text/plain": [
       "count    235629.000000\n",
       "mean        442.487138\n",
       "std         245.051601\n",
       "min          23.360000\n",
       "25%         265.680000\n",
       "50%         384.120000\n",
       "75%         578.770000\n",
       "max        1409.990000\n",
       "Name: installment, dtype: float64"
      ]
     },
     "execution_count": 7,
     "metadata": {},
     "output_type": "execute_result"
    }
   ],
   "source": [
    "data_u.installment.describe()"
   ]
  },
  {
   "cell_type": "code",
   "execution_count": 8,
   "metadata": {},
   "outputs": [],
   "source": [
    "#存在右边但不至于用指数函数设定组距，采用1000之前隔50为一组，1000之后100为一组，1300以后的一组\n",
    "X_dot=[0]\n",
    "for i in range(50,1000,50):\n",
    "    X_dot.append(i)\n",
    "for i in range(1000,1301,100):\n",
    "    X_dot.append(i)\n",
    "X_dot.append(max(data_u.installment))"
   ]
  },
  {
   "cell_type": "code",
   "execution_count": 9,
   "metadata": {},
   "outputs": [],
   "source": [
    "# 数据放入组中\n",
    "X_group = pd.cut(data_u.installment,bins=X_dot,right=True,retbins=False,include_lowest=False)"
   ]
  },
  {
   "cell_type": "code",
   "execution_count": 10,
   "metadata": {},
   "outputs": [
    {
     "data": {
      "text/plain": [
       "0         (300.0, 350.0]\n",
       "1         (300.0, 350.0]\n",
       "2         (250.0, 300.0]\n",
       "3         (300.0, 350.0]\n",
       "4         (300.0, 350.0]\n",
       "               ...      \n",
       "235624    (400.0, 450.0]\n",
       "235625    (550.0, 600.0]\n",
       "235626     (50.0, 100.0]\n",
       "235627    (500.0, 550.0]\n",
       "235628    (350.0, 400.0]\n",
       "Name: installment, Length: 235629, dtype: category\n",
       "Categories (24, interval[float64]): [(0.0, 50.0] < (50.0, 100.0] < (100.0, 150.0] < (150.0, 200.0] ... (1000.0, 1100.0] < (1100.0, 1200.0] < (1200.0, 1300.0] < (1300.0, 1409.99]]"
      ]
     },
     "execution_count": 10,
     "metadata": {},
     "output_type": "execute_result"
    }
   ],
   "source": [
    "X_group"
   ]
  },
  {
   "cell_type": "code",
   "execution_count": 11,
   "metadata": {},
   "outputs": [],
   "source": [
    "# 计算总体的频率，利用groupby的方法\n",
    "data=pd.DataFrame(data_u.installment)\n",
    "data[\"group\"]=X_group\n",
    "groupValueSize=data.groupby(X_group).size()\n",
    "pinshulist_T=list(pd.DataFrame(groupValueSize).reset_index().iloc[:,1])\n",
    "pinlvlist_T=[i/len(data_u.installment) for i in pinshulist_T]"
   ]
  },
  {
   "cell_type": "code",
   "execution_count": 12,
   "metadata": {},
   "outputs": [
    {
     "data": {
      "text/plain": [
       "(24, 235629)"
      ]
     },
     "execution_count": 12,
     "metadata": {},
     "output_type": "execute_result"
    }
   ],
   "source": [
    "len(pinshulist_T),sum(pinshulist_T)#z总共有235629个数据被分为24组"
   ]
  },
  {
   "cell_type": "code",
   "execution_count": 13,
   "metadata": {},
   "outputs": [],
   "source": [
    "samplenum=[100,500,1000,5000,10000]"
   ]
  },
  {
   "cell_type": "code",
   "execution_count": 14,
   "metadata": {},
   "outputs": [],
   "source": [
    "#用于抽样的函数\n",
    "def get_sample_jd(samplenum):\n",
    "    pinshulist_sam=[]\n",
    "    for i in samplenum:\n",
    "        result = list(data_u.sample(i).installment)\n",
    "        pinshulist_sam.append(result)\n",
    "    return pinshulist_sam  \n",
    "#计算样本质量Q的函数\n",
    "def get_Q(get_sample_jd):\n",
    "    pinlvlist_jd_all=[]\n",
    "    for i in get_sample_jd(samplenum):\n",
    "        X_group = pd.cut(i,bins=X_dot,right=True,retbins=False,include_lowest=False)\n",
    "        data=pd.DataFrame(i)\n",
    "        data[\"group\"]=X_group\n",
    "        groupValueSize=data.groupby(X_group).size()\n",
    "        pinshulist_jd=list(pd.DataFrame(groupValueSize).reset_index().iloc[:,1])\n",
    "        pinlvlist_jd = [j / len(X_group) for j in pinshulist_jd]\n",
    "        pinlvlist_jd_all.append(pinlvlist_jd)\n",
    "     #计算Q\n",
    "    index_I = []\n",
    "    for i in  pinlvlist_jd_all:\n",
    "        I_per = sum((np.array(i)-np.array(pinlvlist_T))*np.log(np.array(i)/np.array(pinlvlist_T)+1e-5))#比值加上1e-5消除某组中没有抽到直接无穷大等的影响\n",
    "        index_I.append(I_per)\n",
    "        Q = np.exp(np.array(index_I)*(-1))\n",
    "    return Q\n",
    "   "
   ]
  },
  {
   "cell_type": "code",
   "execution_count": 15,
   "metadata": {},
   "outputs": [],
   "source": [
    "#抽取50次\n",
    "times=0\n",
    "Q_meanpre=[]\n",
    "while times < 50:\n",
    "    get_sample_jd(samplenum)\n",
    "    get_Q(get_sample_jd)\n",
    "    Q_meanpre.append(get_Q(get_sample_jd))\n",
    "    times=times+1\n"
   ]
  },
  {
   "cell_type": "code",
   "execution_count": 16,
   "metadata": {},
   "outputs": [],
   "source": [
    "j_0=np.array(Q_meanpre)\n",
    "arr1=np.zeros(5)\n",
    "for i in np.arange(50):\n",
    "    arr1 = (arr1+j_0[i])\n",
    "arr=arr1/50"
   ]
  },
  {
   "cell_type": "code",
   "execution_count": 17,
   "metadata": {},
   "outputs": [
    {
     "data": {
      "image/png": "[encoded data removed]",
      "text/plain": [
       "<Figure size 432x288 with 1 Axes>"
      ]
     },
     "metadata": {
      "needs_background": "light"
     },
     "output_type": "display_data"
    }
   ],
   "source": [
    "plt.scatter(samplenum,arr)\n",
    "plt.xlabel('样本量')\n",
    "plt.ylabel('平均样本质量')\n",
    "plt.title('不同样本量下简单随机抽样效果')\n",
    "plt.rcParams['font.sans-serif']=['SimHei'] #用来正常显示中文标签"
   ]
  },
  {
   "cell_type": "code",
   "execution_count": 18,
   "metadata": {},
   "outputs": [],
   "source": [
    "#取的样本量看不出样本质量0.9时的样本容量，故在50~1000之间按照多选取一些\n",
    "#更新samplenum 再次计算\n",
    "samplenum = np.arange(50,1001,50)"
   ]
  },
  {
   "cell_type": "code",
   "execution_count": 19,
   "metadata": {},
   "outputs": [
    {
     "data": {
      "text/plain": [
       "array([  50,  100,  150,  200,  250,  300,  350,  400,  450,  500,  550,\n",
       "        600,  650,  700,  750,  800,  850,  900,  950, 1000])"
      ]
     },
     "execution_count": 19,
     "metadata": {},
     "output_type": "execute_result"
    }
   ],
   "source": [
    "samplenum"
   ]
  },
  {
   "cell_type": "code",
   "execution_count": 20,
   "metadata": {},
   "outputs": [],
   "source": [
    "#抽取50次\n",
    "times=0\n",
    "Q_meanpre=[]\n",
    "while times < 50:\n",
    "    get_sample_jd(samplenum)\n",
    "    get_Q(get_sample_jd)\n",
    "    Q_meanpre.append(get_Q(get_sample_jd))\n",
    "    times=times+1\n",
    "j_0=np.array(Q_meanpre)\n",
    "arr1=np.zeros(len(samplenum))\n",
    "for i in np.arange(50):\n",
    "    arr1 = (arr1+j_0[i])\n",
    "arr=arr1/50\n"
   ]
  },
  {
   "cell_type": "code",
   "execution_count": 21,
   "metadata": {},
   "outputs": [
    {
     "data": {
      "image/png": "[encoded data removed]",
      "text/plain": [
       "<Figure size 432x288 with 1 Axes>"
      ]
     },
     "metadata": {
      "needs_background": "light"
     },
     "output_type": "display_data"
    }
   ],
   "source": [
    "plt.scatter(samplenum,arr)\n",
    "plt.xlabel('样本量')\n",
    "plt.ylabel('平均样本质量')\n",
    "plt.title('不同样本量下简单随机抽样效果')\n",
    "plt.rcParams['font.sans-serif']=['SimHei'] #用来正常显示中文标签"
   ]
  },
  {
   "cell_type": "code",
   "execution_count": 22,
   "metadata": {},
   "outputs": [
    {
     "data": {
      "text/plain": [
       "array([0.26920106, 0.54792397, 0.71963201, 0.78956628, 0.85323641,\n",
       "       0.88816985, 0.91288635, 0.91595543, 0.9372929 , 0.94451559,\n",
       "       0.9510691 , 0.95300788, 0.94771356, 0.95641955, 0.96521117,\n",
       "       0.96589016, 0.96698704, 0.9700827 , 0.97320307, 0.97495456])"
      ]
     },
     "execution_count": 22,
     "metadata": {},
     "output_type": "execute_result"
    }
   ],
   "source": [
    "arr"
   ]
  },
  {
   "cell_type": "code",
   "execution_count": 36,
   "metadata": {},
   "outputs": [
    {
     "name": "stdout",
     "output_type": "stream",
     "text": [
      "[-1.26147631e-06  1.76292721e-03  3.97163773e-01]\n"
     ]
    }
   ],
   "source": [
    "#多项式拟合\n",
    "n_order = 2        #阶数\n",
    "\n",
    "x1 = samplenum\n",
    "y1 = arr\n",
    "p = np.poly1d(np.polyfit(x1,y1,n_order))            #拟合并构造出一个3次多项式\n",
    "print(p.coeffs)                               #输出拟合的系数，顺序从高阶低阶\n"
   ]
  },
  {
   "cell_type": "code",
   "execution_count": 37,
   "metadata": {},
   "outputs": [
    {
     "data": {
      "image/png": "[encoded data removed]",
      "text/plain": [
       "<Figure size 432x288 with 1 Axes>"
      ]
     },
     "metadata": {
      "needs_background": "light"
     },
     "output_type": "display_data"
    }
   ],
   "source": [
    "#画出拟合出来的多项式所表达的曲线以及原始的点\n",
    "plt.plot(x1,y1,'ro',x1,p(x1),'-')\n",
    "plt.xlabel('样本量')\n",
    "plt.ylabel('平均样本质量（Q）')\n",
    "plt.show()\n",
    "\n"
   ]
  },
  {
   "cell_type": "code",
   "execution_count": 35,
   "metadata": {
    "scrolled": true
   },
   "outputs": [
    {
     "data": {
      "text/html": [
       "<div>\n",
       "<style scoped>\n",
       "    .dataframe tbody tr th:only-of-type {\n",
       "        vertical-align: middle;\n",
       "    }\n",
       "\n",
       "    .dataframe tbody tr th {\n",
       "        vertical-align: top;\n",
       "    }\n",
       "\n",
       "    .dataframe thead th {\n",
       "        text-align: right;\n",
       "    }\n",
       "</style>\n",
       "<table border=\"1\" class=\"dataframe\">\n",
       "  <thead>\n",
       "    <tr style=\"text-align: right;\">\n",
       "      <th></th>\n",
       "      <th>0</th>\n",
       "    </tr>\n",
       "  </thead>\n",
       "  <tbody>\n",
       "    <tr>\n",
       "      <td>0.363993</td>\n",
       "      <td>50</td>\n",
       "    </tr>\n",
       "    <tr>\n",
       "      <td>0.517308</td>\n",
       "      <td>100</td>\n",
       "    </tr>\n",
       "    <tr>\n",
       "      <td>0.643585</td>\n",
       "      <td>150</td>\n",
       "    </tr>\n",
       "    <tr>\n",
       "      <td>0.745263</td>\n",
       "      <td>200</td>\n",
       "    </tr>\n",
       "    <tr>\n",
       "      <td>0.824781</td>\n",
       "      <td>250</td>\n",
       "    </tr>\n",
       "    <tr>\n",
       "      <td>0.884578</td>\n",
       "      <td>300</td>\n",
       "    </tr>\n",
       "    <tr>\n",
       "      <td>0.927092</td>\n",
       "      <td>350</td>\n",
       "    </tr>\n",
       "    <tr>\n",
       "      <td>0.954763</td>\n",
       "      <td>400</td>\n",
       "    </tr>\n",
       "    <tr>\n",
       "      <td>0.970030</td>\n",
       "      <td>450</td>\n",
       "    </tr>\n",
       "    <tr>\n",
       "      <td>0.975331</td>\n",
       "      <td>500</td>\n",
       "    </tr>\n",
       "    <tr>\n",
       "      <td>0.973105</td>\n",
       "      <td>550</td>\n",
       "    </tr>\n",
       "    <tr>\n",
       "      <td>0.965791</td>\n",
       "      <td>600</td>\n",
       "    </tr>\n",
       "    <tr>\n",
       "      <td>0.955828</td>\n",
       "      <td>650</td>\n",
       "    </tr>\n",
       "    <tr>\n",
       "      <td>0.945655</td>\n",
       "      <td>700</td>\n",
       "    </tr>\n",
       "    <tr>\n",
       "      <td>0.937710</td>\n",
       "      <td>750</td>\n",
       "    </tr>\n",
       "    <tr>\n",
       "      <td>0.934433</td>\n",
       "      <td>800</td>\n",
       "    </tr>\n",
       "    <tr>\n",
       "      <td>0.938263</td>\n",
       "      <td>850</td>\n",
       "    </tr>\n",
       "    <tr>\n",
       "      <td>0.951637</td>\n",
       "      <td>900</td>\n",
       "    </tr>\n",
       "    <tr>\n",
       "      <td>0.976996</td>\n",
       "      <td>950</td>\n",
       "    </tr>\n",
       "    <tr>\n",
       "      <td>1.016778</td>\n",
       "      <td>1000</td>\n",
       "    </tr>\n",
       "  </tbody>\n",
       "</table>\n",
       "</div>"
      ],
      "text/plain": [
       "             0\n",
       "0.363993    50\n",
       "0.517308   100\n",
       "0.643585   150\n",
       "0.745263   200\n",
       "0.824781   250\n",
       "0.884578   300\n",
       "0.927092   350\n",
       "0.954763   400\n",
       "0.970030   450\n",
       "0.975331   500\n",
       "0.973105   550\n",
       "0.965791   600\n",
       "0.955828   650\n",
       "0.945655   700\n",
       "0.937710   750\n",
       "0.934433   800\n",
       "0.938263   850\n",
       "0.951637   900\n",
       "0.976996   950\n",
       "1.016778  1000"
      ]
     },
     "execution_count": 35,
     "metadata": {},
     "output_type": "execute_result"
    }
   ],
   "source": [
    "pd.DataFrame(x1,p(x1))#二项400"
   ]
  },
  {
   "cell_type": "code",
   "execution_count": 26,
   "metadata": {},
   "outputs": [],
   "source": [
    "#对数拟合\n",
    "from scipy import log\n",
    "from scipy.optimize import curve_fit\n",
    "\n",
    "def func(x, a, b):\n",
    "    y = a * log(x) + b\n",
    "    return y\n",
    "\n",
    "def polyfit(x, y, degree):\n",
    "    results = {}\n",
    "    #coeffs = numpy.polyfit(x, y, degree)\n",
    "    popt, pcov = curve_fit(func, x, y)\n",
    "    results['polynomial'] = popt\n",
    "\n",
    "    # r-squared\n",
    "    yhat = func(x ,popt[0] ,popt[1] )                         # or [p(z) for z in x]\n",
    "    ybar = np.sum(y)/len(y)          # or sum(y)/len(y)\n",
    "    ssreg = np.sum((yhat-ybar)**2)   # or sum([ (yihat - ybar)**2 for yihat in yhat])\n",
    "    sstot = np.sum((y - ybar)**2)    # or sum([ (yi - ybar)**2 for yi in y])\n",
    "    results['determination'] = ssreg / sstot\n",
    "\n",
    "    return results\n"
   ]
  },
  {
   "cell_type": "code",
   "execution_count": 27,
   "metadata": {},
   "outputs": [
    {
     "name": "stdout",
     "output_type": "stream",
     "text": [
      "{'polynomial': array([ 0.30188926, -0.85109439]), 'determination': 0.9607253647714622}\n"
     ]
    }
   ],
   "source": [
    "x=samplenum[:9]\n",
    "y=arr[:9]\n",
    "z1 = polyfit(x, y, 2)\n",
    "print (z1)\n",
    "#determinatiom是R方 判决系数\n"
   ]
  },
  {
   "cell_type": "code",
   "execution_count": 28,
   "metadata": {},
   "outputs": [],
   "source": [
    "pre = 0.30609543 * log(x) +  -0.87048572"
   ]
  },
  {
   "cell_type": "code",
   "execution_count": 29,
   "metadata": {},
   "outputs": [
    {
     "data": {
      "text/plain": [
       "array([ 50, 100, 150, 200, 250, 300, 350, 400, 450])"
      ]
     },
     "execution_count": 29,
     "metadata": {},
     "output_type": "execute_result"
    }
   ],
   "source": [
    "x"
   ]
  },
  {
   "cell_type": "code",
   "execution_count": 30,
   "metadata": {},
   "outputs": [
    {
     "data": {
      "text/plain": [
       "array([0.32696664, 0.53913583, 0.66324684, 0.75130501, 0.81960823,\n",
       "       0.87541603, 0.92260085, 0.9634742 , 0.99952705])"
      ]
     },
     "execution_count": 30,
     "metadata": {},
     "output_type": "execute_result"
    }
   ],
   "source": [
    "pre"
   ]
  },
  {
   "cell_type": "code",
   "execution_count": 31,
   "metadata": {},
   "outputs": [
    {
     "data": {
      "image/png": "[encoded data removed]",
      "text/plain": [
       "<Figure size 432x288 with 1 Axes>"
      ]
     },
     "metadata": {
      "needs_background": "light"
     },
     "output_type": "display_data"
    }
   ],
   "source": [
    "plt.plot(x,y,'ro',x,pre,'-')\n",
    "plt.xlabel('样本量')\n",
    "plt.ylabel('平均样本质量（Q）')\n",
    "plt.show()"
   ]
  },
  {
   "cell_type": "code",
   "execution_count": 32,
   "metadata": {
    "scrolled": false
   },
   "outputs": [
    {
     "data": {
      "text/html": [
       "<div>\n",
       "<style scoped>\n",
       "    .dataframe tbody tr th:only-of-type {\n",
       "        vertical-align: middle;\n",
       "    }\n",
       "\n",
       "    .dataframe tbody tr th {\n",
       "        vertical-align: top;\n",
       "    }\n",
       "\n",
       "    .dataframe thead th {\n",
       "        text-align: right;\n",
       "    }\n",
       "</style>\n",
       "<table border=\"1\" class=\"dataframe\">\n",
       "  <thead>\n",
       "    <tr style=\"text-align: right;\">\n",
       "      <th></th>\n",
       "      <th>0</th>\n",
       "    </tr>\n",
       "  </thead>\n",
       "  <tbody>\n",
       "    <tr>\n",
       "      <td>0.326967</td>\n",
       "      <td>50</td>\n",
       "    </tr>\n",
       "    <tr>\n",
       "      <td>0.539136</td>\n",
       "      <td>100</td>\n",
       "    </tr>\n",
       "    <tr>\n",
       "      <td>0.663247</td>\n",
       "      <td>150</td>\n",
       "    </tr>\n",
       "    <tr>\n",
       "      <td>0.751305</td>\n",
       "      <td>200</td>\n",
       "    </tr>\n",
       "    <tr>\n",
       "      <td>0.819608</td>\n",
       "      <td>250</td>\n",
       "    </tr>\n",
       "    <tr>\n",
       "      <td>0.875416</td>\n",
       "      <td>300</td>\n",
       "    </tr>\n",
       "    <tr>\n",
       "      <td>0.922601</td>\n",
       "      <td>350</td>\n",
       "    </tr>\n",
       "    <tr>\n",
       "      <td>0.963474</td>\n",
       "      <td>400</td>\n",
       "    </tr>\n",
       "    <tr>\n",
       "      <td>0.999527</td>\n",
       "      <td>450</td>\n",
       "    </tr>\n",
       "  </tbody>\n",
       "</table>\n",
       "</div>"
      ],
      "text/plain": [
       "            0\n",
       "0.326967   50\n",
       "0.539136  100\n",
       "0.663247  150\n",
       "0.751305  200\n",
       "0.819608  250\n",
       "0.875416  300\n",
       "0.922601  350\n",
       "0.963474  400\n",
       "0.999527  450"
      ]
     },
     "execution_count": 32,
     "metadata": {},
     "output_type": "execute_result"
    }
   ],
   "source": [
    "pd.DataFrame(x,pre) "
   ]
  }
 ],
 "metadata": {
  "kernelspec": {
   "display_name": "Python 3",
   "language": "python",
   "name": "python3"
  },
  "language_info": {
   "codemirror_mode": {
    "name": "ipython",
    "version": 3
   },
   "file_extension": ".py",
   "mimetype": "text/x-python",
   "name": "python",
   "nbconvert_exporter": "python",
   "pygments_lexer": "ipython3",
   "version": "3.7.1"
  }
 },
 "nbformat": 4,
 "nbformat_minor": 2
}
