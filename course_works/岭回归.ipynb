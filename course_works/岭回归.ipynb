{
 "cells": [
  {
   "cell_type": "code",
   "execution_count": 117,
   "metadata": {},
   "outputs": [],
   "source": [
    "import numpy as np\n",
    "import pandas as pd\n",
    "import scipy\n",
    "from scipy.linalg import cholesky\n",
    "from numpy import mat\n",
    "from numpy import diag\n",
    "import math\n",
    "import time\n",
    "import random"
   ]
  },
  {
   "cell_type": "markdown",
   "metadata": {},
   "source": [
    "### cholesky矩阵分解"
   ]
  },
  {
   "cell_type": "code",
   "execution_count": 10,
   "metadata": {},
   "outputs": [],
   "source": [
    "'''\n",
    "mchol函数将对称方阵分解为一个下三角矩阵乘以该矩阵转置的形式,函数返回值为下三角矩阵\n",
    "#输入：欲分解的矩阵x\n",
    "#输出：cholesky分解所得矩阵L\n",
    "\n",
    "numpy.linalg和scipy.linalg中都有cholesky（）函数\n",
    "\n",
    "不同之处在于：\n",
    "\n",
    "numpy : s = LLT，返回的L是下三角阵\n",
    "scipy : s = LLT，返回的L是上三角阵\n",
    "\n",
    "def mchol(x):\n",
    "    m=np.shape(x)[0]\n",
    "    n=np.shape(x)[1]\n",
    "    #检验x是否为方阵\n",
    "    if m!=n:\n",
    "        print(\"Wrong dimensions of matrix!\")\n",
    "    #检验x是否为对称阵\n",
    "    if sum(sum(x.T !=x))>0:\n",
    "        print(\"Input matrix is not symmetrical!\")\n",
    "    return np.linalg.cholesky(x)\n",
    "\"\"\""
   ]
  },
  {
   "cell_type": "markdown",
   "metadata": {},
   "source": [
    "### 解L*x =b"
   ]
  },
  {
   "cell_type": "code",
   "execution_count": 244,
   "metadata": {},
   "outputs": [],
   "source": [
    "###mforwardsolve函数求解线性方程租Lx=b，其中L为下三角矩阵\n",
    "def mforwardsolve(L,b):\n",
    "    m=np.shape(L)[0]\n",
    "    n=np.shape(L)[1]\n",
    "    #0向量记录求解结果\n",
    "    x=np.zeros(m)\n",
    "    #循环每进行一次,求解一个x中的元素，看作矩阵L向量x向量b的维数减一\n",
    "    #故下述将矩阵L的第i列记为当前矩阵L第一列，将向量x向量b的第i个元素记为当前向量第一个元素\n",
    "    for i in range(m):\n",
    "        #求当前循环中x的第一个元素\n",
    "        x[i]=b[i]/L[i][i]\n",
    "        #降维后的b向量为原来位置上的元素减去当前矩阵L的第一列的乘积\n",
    "        if i<m-1:\n",
    "            b[i+1:]=b[i+1:]-x[i]*L[i+1:,i]\n",
    "    return x\n",
    "\n",
    "###mbacksolve函数求解线性方程租Lx=b，其中L为上三角矩阵\n",
    "#输入：上三角矩阵L，向量b\n",
    "#输出：线性方程组的解x\n",
    "def mbacksolve(L,b):\n",
    "    m=np.shape(L)[0]\n",
    "    n=np.shape(L)[1]\n",
    "    x=np.zeros(m)\n",
    "    #循环每进行一次,求解一个x中的元素，看作矩阵L向量x向量b的维数减一\n",
    "    #故下述将矩阵L的第i列记为当前矩阵L最后一列，将向量x向量b的第i个元素记为当前向量最后一个元素\n",
    "    for i in range(m-1,-1,-1):\n",
    "        x[i]=b[i]/L[i][i]\n",
    "        if i >0:\n",
    "            b[:i-1]=b[:i-1]-x[i]*L[:i-1,i]\n",
    "    return x  "
   ]
  },
  {
   "cell_type": "code",
   "execution_count": 213,
   "metadata": {},
   "outputs": [],
   "source": [
    "#测试向前和回代法函数\n",
    "y=np.random.rand(5,4)\n",
    "x1=np.dot(y.T,y)\n",
    "b=np.arange(4)"
   ]
  },
  {
   "cell_type": "code",
   "execution_count": 253,
   "metadata": {},
   "outputs": [
    {
     "data": {
      "text/plain": [
       "array([0.        , 1.50913349, 1.81457882, 0.        ])"
      ]
     },
     "execution_count": 253,
     "metadata": {},
     "output_type": "execute_result"
    }
   ],
   "source": [
    "mforwardsolve(np.linalg.cholesky(x1),b)"
   ]
  },
  {
   "cell_type": "code",
   "execution_count": 259,
   "metadata": {},
   "outputs": [
    {
     "data": {
      "text/plain": [
       "array([-0.75144761,  1.50913349,  1.81457882,  0.        ])"
      ]
     },
     "execution_count": 259,
     "metadata": {},
     "output_type": "execute_result"
    }
   ],
   "source": [
    "mbacksolve(scipy.linalg.cholesky(x1),b)"
   ]
  },
  {
   "cell_type": "markdown",
   "metadata": {},
   "source": [
    "### 岭回归 "
   ]
  },
  {
   "cell_type": "raw",
   "metadata": {},
   "source": [
    "ridgereg函数用于实现岭回归参数beta的估计，参数x和y分别为回归方程的自变量和因变量,lambda为L2正则项的调节参数\n",
    "\n",
    "此函数求解线性方程租(x.T * x+lambada)*beta=x.T * y\n",
    "\n",
    "将x.T * x+lambada进行cholesky分解为R * R.T\n",
    "\n",
    "forwardsolve求解L*d=x.T * y,其中d=R.T * beta,backsolve求解R.T * beta=d\n",
    "\n",
    "即得参数beta的估计值 "
   ]
  },
  {
   "cell_type": "code",
   "execution_count": 161,
   "metadata": {},
   "outputs": [],
   "source": [
    "def ridgereg(lam,x,y):\n",
    "    n=np.shape(x)[0]#行数\n",
    "    p=np.shape(x)[1]#维数\n",
    "    \n",
    "    #将自变量矩阵增加一列全1元素,以便于截距项的计算\n",
    "    x=np.column_stack((x,np.ones(n)))\n",
    "    \n",
    "    #利用cholesky分解求取回归方程的参数beta的估计值  \n",
    "    s=np.array([lam]*p).tolist()\n",
    "    s.insert(0,0)\n",
    "    V=np.dot(x.T,x)+mat(diag(s))\n",
    "    U=np.dot(x.T,y)\n",
    "    R = np.linalg.cholesky(V)\n",
    "    M=mforwardsolve(R, U)  \n",
    "    mbacksolve(R.T,M)"
   ]
  },
  {
   "cell_type": "markdown",
   "metadata": {},
   "source": [
    "### k折交叉验证"
   ]
  },
  {
   "cell_type": "code",
   "execution_count": 119,
   "metadata": {},
   "outputs": [],
   "source": [
    "#给每一行数据一个组号，训练时用非组号的数据，测试时用该组号的数据\n",
    "#用于训练岭回归的函数\n",
    "def k_ridge(i,lam,x,y,index):\n",
    "    if i == index:\n",
    "        ridgereg(lam,np.delete(x, [i], axis=0),np.delete(y, [i]))#给每一行数据一个组号"
   ]
  },
  {
   "cell_type": "code",
   "execution_count": 123,
   "metadata": {},
   "outputs": [],
   "source": [
    "#十折交叉验证\n",
    "def ten_cvridgeregerr(lam,x,y):\n",
    "    n=np.shape(x)[0]#n是行数\n",
    "    index=random.sample((np.arange(10).tolist()*math.ceil(n/10)),n)#是每一行被分到第几组\n",
    "    \n",
    "    #矩阵中的元素作为当前删去折数作为参数传入k_ridge，结果第i行为删去第i折的岭回归系数估计值\n",
    "    coe=pd.DataFrame(np.arange(1,11)).apply(k_ridge,lam=lam,x=x,y=y,index=index,axis=0)\n",
    "    x=np.hstack(np.ones(n,1),x)\n",
    "    mse=np.mean((np.sum(x*coe,axis=1)-y)**2)\n",
    "    return mse"
   ]
  },
  {
   "cell_type": "code",
   "execution_count": 109,
   "metadata": {},
   "outputs": [],
   "source": [
    "# ###test\n",
    "# test_x=np.random.normal(loc=0.0, scale=1, size=(100,100))\n",
    "# test_y=np.zeros(100)\n",
    "# LAM_1=np.arange(0,1,0.01)"
   ]
  },
  {
   "cell_type": "markdown",
   "metadata": {},
   "source": [
    "### 生成数据集 "
   ]
  },
  {
   "cell_type": "code",
   "execution_count": null,
   "metadata": {},
   "outputs": [],
   "source": [
    "# #小数据集举例理解生成函数\n",
    "# mean = [0, 0, 0]\n",
    "# cov = [[1, 0.9,0.81], [0.9,1,0.729],[0.81,0.729,1]]\n",
    "# x= np.random.multivariate_normal(mean, cov, 5)"
   ]
  },
  {
   "cell_type": "code",
   "execution_count": 104,
   "metadata": {},
   "outputs": [],
   "source": [
    "#生成x\n",
    "mean=np.zeros(1000)\n",
    "cov =[]\n",
    "i=0\n",
    "while i < 1000:\n",
    "    cov.append(0.9**(np.arange(1000)+i))\n",
    "    i=i+1\n",
    "for i in range(1000):\n",
    "    cov[i][i]=1\n",
    "x= np.random.multivariate_normal(mean, cov, 100000)"
   ]
  },
  {
   "cell_type": "code",
   "execution_count": 105,
   "metadata": {},
   "outputs": [
    {
     "data": {
      "text/plain": [
       "(100000, 1000)"
      ]
     },
     "execution_count": 105,
     "metadata": {},
     "output_type": "execute_result"
    }
   ],
   "source": [
    "x.shape"
   ]
  },
  {
   "cell_type": "code",
   "execution_count": 131,
   "metadata": {},
   "outputs": [],
   "source": [
    "#生成用于生成真实y的β\n",
    "beta0=[]\n",
    "i=1\n",
    "while i <=1000:\n",
    "    if i%2 !=0:\n",
    "        beta0.append(1)\n",
    "    if i%2 ==0:\n",
    "        beta0.append(-1)\n",
    "    i=i+1\n",
    "#生成y\n",
    "y=np.dot(x,beta0)+np.random.randn(100000)"
   ]
  },
  {
   "cell_type": "code",
   "execution_count": 132,
   "metadata": {},
   "outputs": [
    {
     "data": {
      "text/plain": [
       "(100000,)"
      ]
     },
     "execution_count": 132,
     "metadata": {},
     "output_type": "execute_result"
    }
   ],
   "source": [
    "y.shape"
   ]
  },
  {
   "cell_type": "code",
   "execution_count": 134,
   "metadata": {},
   "outputs": [],
   "source": [
    "#另一种生成beta0\n",
    "# from itertools import chain\n",
    "# a=np.array([1]*int(n/2)).reshape(int(n/2),1)\n",
    "# b=-1*a\n",
    "# betaTrue=list(chain(*np.hstack((a,b))))"
   ]
  },
  {
   "cell_type": "markdown",
   "metadata": {},
   "source": [
    "### 交叉验证岭回归 选lambda "
   ]
  },
  {
   "cell_type": "code",
   "execution_count": 137,
   "metadata": {},
   "outputs": [],
   "source": [
    "#交叉验证100次 零到一之间（割线法/隔点法）选lamda\n",
    "#割线法\n",
    "def gexian():\n",
    "    LAM_1=np.arange(0,1,0.01)\n",
    "    mi=100000\n",
    "    goodlam=0\n",
    "    for i in LAM_1:\n",
    "        mse=ten_cvridgeregerr(i,x,y)\n",
    "        if mse<mi:\n",
    "            mi=mse\n",
    "            goodlam=i\n",
    "    return mi,goodlam"
   ]
  },
  {
   "cell_type": "code",
   "execution_count": 148,
   "metadata": {},
   "outputs": [],
   "source": [
    "#两点法\n",
    "def liangdian():\n",
    "    a=0\n",
    "    b=1\n",
    "    mi=100000\n",
    "    m=(a+b)/2\n",
    "    for j in range(100):#二分100次\n",
    "        mse_m=ten_cvridgeregerr(m,x,y)\n",
    "        mse_a=ten_cvridgeregerr(a,x,y)\n",
    "        mse_b=ten_cvridgeregerr(b,x,y)\n",
    "        if mse_a<mse_b:\n",
    "            a=a,b=m\n",
    "        if mse_a>=mse_b:\n",
    "            a=m,b=b\n",
    "    m=(a+b)/2\n",
    "    mi=mse_m#因为是凸函数所以肯定越来越小不用比较,最后求一次均方误差就好，肯定快\n",
    "                \n",
    "    return m,mi#m就是选定的lambda\n",
    "    "
   ]
  },
  {
   "cell_type": "code",
   "execution_count": null,
   "metadata": {},
   "outputs": [],
   "source": []
  }
 ],
 "metadata": {
  "kernelspec": {
   "display_name": "Python 3",
   "language": "python",
   "name": "python3"
  },
  "language_info": {
   "codemirror_mode": {
    "name": "ipython",
    "version": 3
   },
   "file_extension": ".py",
   "mimetype": "text/x-python",
   "name": "python",
   "nbconvert_exporter": "python",
   "pygments_lexer": "ipython3",
   "version": "3.7.1"
  }
 },
 "nbformat": 4,
 "nbformat_minor": 2
}
