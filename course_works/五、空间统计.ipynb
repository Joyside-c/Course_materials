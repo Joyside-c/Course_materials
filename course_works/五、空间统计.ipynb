{
 "cells": [
  {
   "cell_type": "code",
   "execution_count": 2,
   "metadata": {},
   "outputs": [],
   "source": [
    "import pandas as pd\n",
    "import numpy as np\n"
   ]
  },
  {
   "cell_type": "code",
   "execution_count": 5,
   "metadata": {},
   "outputs": [],
   "source": [
    "geo=pd.read_csv(\"城市经纬度.csv\",encoding='ANSI')"
   ]
  },
  {
   "cell_type": "code",
   "execution_count": 6,
   "metadata": {},
   "outputs": [
    {
     "data": {
      "text/html": [
       "<div>\n",
       "<style scoped>\n",
       "    .dataframe tbody tr th:only-of-type {\n",
       "        vertical-align: middle;\n",
       "    }\n",
       "\n",
       "    .dataframe tbody tr th {\n",
       "        vertical-align: top;\n",
       "    }\n",
       "\n",
       "    .dataframe thead th {\n",
       "        text-align: right;\n",
       "    }\n",
       "</style>\n",
       "<table border=\"1\" class=\"dataframe\">\n",
       "  <thead>\n",
       "    <tr style=\"text-align: right;\">\n",
       "      <th></th>\n",
       "      <th>province</th>\n",
       "      <th>city</th>\n",
       "      <th>longitude</th>\n",
       "      <th>latitude</th>\n",
       "    </tr>\n",
       "  </thead>\n",
       "  <tbody>\n",
       "    <tr>\n",
       "      <td>0</td>\n",
       "      <td>NaN</td>\n",
       "      <td>北京市</td>\n",
       "      <td>116.40717</td>\n",
       "      <td>39.90469</td>\n",
       "    </tr>\n",
       "    <tr>\n",
       "      <td>1</td>\n",
       "      <td>NaN</td>\n",
       "      <td>天津市</td>\n",
       "      <td>117.19937</td>\n",
       "      <td>39.08510</td>\n",
       "    </tr>\n",
       "    <tr>\n",
       "      <td>2</td>\n",
       "      <td>NaN</td>\n",
       "      <td>上海市</td>\n",
       "      <td>121.47370</td>\n",
       "      <td>31.23037</td>\n",
       "    </tr>\n",
       "    <tr>\n",
       "      <td>3</td>\n",
       "      <td>NaN</td>\n",
       "      <td>重庆市</td>\n",
       "      <td>106.55073</td>\n",
       "      <td>29.56471</td>\n",
       "    </tr>\n",
       "    <tr>\n",
       "      <td>4</td>\n",
       "      <td>NaN</td>\n",
       "      <td>香港</td>\n",
       "      <td>114.16546</td>\n",
       "      <td>22.27534</td>\n",
       "    </tr>\n",
       "    <tr>\n",
       "      <td>...</td>\n",
       "      <td>...</td>\n",
       "      <td>...</td>\n",
       "      <td>...</td>\n",
       "      <td>...</td>\n",
       "    </tr>\n",
       "    <tr>\n",
       "      <td>335</td>\n",
       "      <td>新疆维吾尔自治区</td>\n",
       "      <td>喀什地区</td>\n",
       "      <td>75.98976</td>\n",
       "      <td>39.47042</td>\n",
       "    </tr>\n",
       "    <tr>\n",
       "      <td>336</td>\n",
       "      <td>新疆维吾尔自治区</td>\n",
       "      <td>和田地区</td>\n",
       "      <td>79.92247</td>\n",
       "      <td>37.11431</td>\n",
       "    </tr>\n",
       "    <tr>\n",
       "      <td>337</td>\n",
       "      <td>新疆维吾尔自治区</td>\n",
       "      <td>伊犁哈萨克自治州</td>\n",
       "      <td>81.32416</td>\n",
       "      <td>43.91689</td>\n",
       "    </tr>\n",
       "    <tr>\n",
       "      <td>338</td>\n",
       "      <td>新疆维吾尔自治区</td>\n",
       "      <td>塔城地区</td>\n",
       "      <td>82.98046</td>\n",
       "      <td>46.74532</td>\n",
       "    </tr>\n",
       "    <tr>\n",
       "      <td>339</td>\n",
       "      <td>新疆维吾尔自治区</td>\n",
       "      <td>阿勒泰地区</td>\n",
       "      <td>88.14023</td>\n",
       "      <td>47.84564</td>\n",
       "    </tr>\n",
       "  </tbody>\n",
       "</table>\n",
       "<p>340 rows × 4 columns</p>\n",
       "</div>"
      ],
      "text/plain": [
       "     province      city  longitude  latitude\n",
       "0         NaN       北京市  116.40717  39.90469\n",
       "1         NaN       天津市  117.19937  39.08510\n",
       "2         NaN       上海市  121.47370  31.23037\n",
       "3         NaN       重庆市  106.55073  29.56471\n",
       "4         NaN        香港  114.16546  22.27534\n",
       "..        ...       ...        ...       ...\n",
       "335  新疆维吾尔自治区      喀什地区   75.98976  39.47042\n",
       "336  新疆维吾尔自治区      和田地区   79.92247  37.11431\n",
       "337  新疆维吾尔自治区  伊犁哈萨克自治州   81.32416  43.91689\n",
       "338  新疆维吾尔自治区      塔城地区   82.98046  46.74532\n",
       "339  新疆维吾尔自治区     阿勒泰地区   88.14023  47.84564\n",
       "\n",
       "[340 rows x 4 columns]"
      ]
     },
     "execution_count": 6,
     "metadata": {},
     "output_type": "execute_result"
    }
   ],
   "source": [
    "geo\n"
   ]
  },
  {
   "cell_type": "code",
   "execution_count": 7,
   "metadata": {},
   "outputs": [
    {
     "ename": "ModuleNotFoundError",
     "evalue": "No module named 'pysal'",
     "output_type": "error",
     "traceback": [
      "\u001b[1;31m---------------------------------------------------------------------------\u001b[0m",
      "\u001b[1;31mModuleNotFoundError\u001b[0m                       Traceback (most recent call last)",
      "\u001b[1;32m<ipython-input-7-b6331ff1b37b>\u001b[0m in \u001b[0;36m<module>\u001b[1;34m\u001b[0m\n\u001b[0;32m      1\u001b[0m \u001b[1;32mimport\u001b[0m \u001b[0mnumpy\u001b[0m \u001b[1;32mas\u001b[0m \u001b[0mnp\u001b[0m\u001b[1;33m\u001b[0m\u001b[1;33m\u001b[0m\u001b[0m\n\u001b[1;32m----> 2\u001b[1;33m \u001b[1;32mimport\u001b[0m \u001b[0mpysal\u001b[0m\u001b[1;33m.\u001b[0m\u001b[0mlib\u001b[0m\u001b[1;33m\u001b[0m\u001b[1;33m\u001b[0m\u001b[0m\n\u001b[0m",
      "\u001b[1;31mModuleNotFoundError\u001b[0m: No module named 'pysal'"
     ]
    }
   ],
   "source": [
    "import numpy as np\n",
    "import pysal.lib"
   ]
  },
  {
   "cell_type": "code",
   "execution_count": 14,
   "metadata": {},
   "outputs": [
    {
     "name": "stdout",
     "output_type": "stream",
     "text": [
      "Collecting pysal\n",
      "  Using cached https://files.pythonhosted.org/packages/8e/c6/ed0ca4fd0a72c4cfa629e2e88b8f6f77b2d32ae6cf1678ecf6ef392320ab/pysal-2.1.0.tar.gz\n",
      "Requirement already satisfied: scipy in b:\\anaconda\\lib\\site-packages (from pysal) (1.1.0)\n",
      "Requirement already satisfied: pandas in b:\\anaconda\\lib\\site-packages (from pysal) (0.25.1)\n",
      "Requirement already satisfied: seaborn in b:\\anaconda\\lib\\site-packages (from pysal) (0.9.0)\n",
      "Requirement already satisfied: matplotlib in b:\\anaconda\\lib\\site-packages (from pysal) (3.0.2)\n",
      "Collecting descartes (from pysal)\n",
      "  Using cached https://files.pythonhosted.org/packages/e5/b6/1ed2eb03989ae574584664985367ba70cd9cf8b32ee8cad0e8aaeac819f3/descartes-1.1.0-py3-none-any.whl\n",
      "Collecting palettable (from pysal)\n",
      "  Using cached https://files.pythonhosted.org/packages/ca/46/5198aa24e61bb7eef28d06cb69e56bfa1942f4b6807d95a0b5ce361fe09b/palettable-3.3.0-py2.py3-none-any.whl\n",
      "Requirement already satisfied: scikit-learn in b:\\anaconda\\lib\\site-packages (from pysal) (0.20.1)\n",
      "Collecting geopandas (from pysal)\n",
      "  Using cached https://files.pythonhosted.org/packages/59/39/de0263d511d4fc35a640cf00d02e497eb60698315a22936bedbdd904d7f7/geopandas-0.6.1-py2.py3-none-any.whl\n",
      "Collecting deprecated (from pysal)\n",
      "  Using cached https://files.pythonhosted.org/packages/88/0e/9d5a1a8cd7130c49334cce7b8167ceda63d6a329c8ea65b626116bc9e9e6/Deprecated-1.2.6-py2.py3-none-any.whl\n",
      "Collecting rtree (from pysal)\n",
      "  Using cached https://files.pythonhosted.org/packages/33/0d/0bcb0fdd759570e85697189f675fa462131e5636482f2832288bbe4bb6f7/Rtree-0.8.3-py3-none-any.whl\n",
      "Requirement already satisfied: tqdm in b:\\anaconda\\lib\\site-packages (from pysal) (4.28.1)\n",
      "Requirement already satisfied: numpy>=1.13.3 in b:\\anaconda\\lib\\site-packages (from pandas->pysal) (1.17.2)\n",
      "Requirement already satisfied: pytz>=2017.2 in b:\\anaconda\\lib\\site-packages (from pandas->pysal) (2018.7)\n",
      "Requirement already satisfied: python-dateutil>=2.6.1 in b:\\anaconda\\lib\\site-packages (from pandas->pysal) (2.7.5)\n",
      "Requirement already satisfied: cycler>=0.10 in b:\\anaconda\\lib\\site-packages (from matplotlib->pysal) (0.10.0)\n",
      "Requirement already satisfied: kiwisolver>=1.0.1 in b:\\anaconda\\lib\\site-packages (from matplotlib->pysal) (1.0.1)\n",
      "Requirement already satisfied: pyparsing!=2.0.4,!=2.1.2,!=2.1.6,>=2.0.1 in b:\\anaconda\\lib\\site-packages (from matplotlib->pysal) (2.3.0)\n",
      "Collecting shapely (from geopandas->pysal)\n",
      "  Using cached https://files.pythonhosted.org/packages/a2/fb/7a7af9ef7a35d16fa23b127abee272cfc483ca89029b73e92e93cdf36e6b/Shapely-1.6.4.post2.tar.gz\n",
      "    Complete output from command python setup.py egg_info:\n",
      "    Traceback (most recent call last):\n",
      "      File \"<string>\", line 1, in <module>\n",
      "      File \"C:\\Users\\oasis\\AppData\\Local\\Temp\\pip-install-342at46_\\shapely\\setup.py\", line 80, in <module>\n",
      "        from shapely._buildcfg import geos_version_string, geos_version, \\\n",
      "      File \"C:\\Users\\oasis\\AppData\\Local\\Temp\\pip-install-342at46_\\shapely\\shapely\\_buildcfg.py\", line 200, in <module>\n",
      "        lgeos = CDLL(\"geos_c.dll\")\n",
      "      File \"B:\\anaconda\\lib\\ctypes\\__init__.py\", line 356, in __init__\n",
      "        self._handle = _dlopen(self._name, mode)\n",
      "    OSError: [WinError 126] 找不到指定的模块。\n",
      "    \n",
      "    ----------------------------------------\n"
     ]
    },
    {
     "name": "stderr",
     "output_type": "stream",
     "text": [
      "Command \"python setup.py egg_info\" failed with error code 1 in C:\\Users\\oasis\\AppData\\Local\\Temp\\pip-install-342at46_\\shapely\\\n"
     ]
    }
   ],
   "source": [
    "!pip install pysal"
   ]
  },
  {
   "cell_type": "code",
   "execution_count": 13,
   "metadata": {},
   "outputs": [
    {
     "ename": "ModuleNotFoundError",
     "evalue": "No module named 'pysal'",
     "output_type": "error",
     "traceback": [
      "\u001b[1;31m---------------------------------------------------------------------------\u001b[0m",
      "\u001b[1;31mModuleNotFoundError\u001b[0m                       Traceback (most recent call last)",
      "\u001b[1;32m<ipython-input-13-0e7eba11f7ae>\u001b[0m in \u001b[0;36m<module>\u001b[1;34m\u001b[0m\n\u001b[0;32m      1\u001b[0m \u001b[1;32mimport\u001b[0m \u001b[0mnumpy\u001b[0m \u001b[1;32mas\u001b[0m \u001b[0mnp\u001b[0m\u001b[1;33m\u001b[0m\u001b[1;33m\u001b[0m\u001b[0m\n\u001b[1;32m----> 2\u001b[1;33m \u001b[1;32mimport\u001b[0m \u001b[0mpysal\u001b[0m\u001b[1;33m\u001b[0m\u001b[1;33m\u001b[0m\u001b[0m\n\u001b[0m",
      "\u001b[1;31mModuleNotFoundError\u001b[0m: No module named 'pysal'"
     ]
    }
   ],
   "source": [
    "import numpy as np\n",
    "import pysal"
   ]
  },
  {
   "cell_type": "code",
   "execution_count": null,
   "metadata": {},
   "outputs": [],
   "source": []
  }
 ],
 "metadata": {
  "kernelspec": {
   "display_name": "Python 3",
   "language": "python",
   "name": "python3"
  },
  "language_info": {
   "codemirror_mode": {
    "name": "ipython",
    "version": 3
   },
   "file_extension": ".py",
   "mimetype": "text/x-python",
   "name": "python",
   "nbconvert_exporter": "python",
   "pygments_lexer": "ipython3",
   "version": "3.7.1"
  }
 },
 "nbformat": 4,
 "nbformat_minor": 2
}
