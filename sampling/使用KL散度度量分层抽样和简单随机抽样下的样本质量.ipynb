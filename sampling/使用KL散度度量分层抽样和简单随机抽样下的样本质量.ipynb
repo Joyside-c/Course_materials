{
 "cells": [
  {
   "cell_type": "markdown",
   "metadata": {},
   "source": [
    "## 使用KL散度度量分层抽样和简单随机抽样下样本质量\n",
    "#### 首经贸 22019212043 程义淇"
   ]
  },
  {
   "cell_type": "markdown",
   "metadata": {},
   "source": [
    "### 1.数据准备"
   ]
  },
  {
   "cell_type": "code",
   "execution_count": 1,
   "metadata": {},
   "outputs": [],
   "source": [
    "import numpy as np\n",
    "import pandas as pd\n",
    "import matplotlib.pyplot as plt\n",
    "import scipy\n",
    "import seaborn as sns\n",
    "import math"
   ]
  },
  {
   "cell_type": "markdown",
   "metadata": {},
   "source": [
    "选出需要的字段；按“grade”字段准备分层抽样所用的抽样比例"
   ]
  },
  {
   "cell_type": "code",
   "execution_count": 2,
   "metadata": {},
   "outputs": [
    {
     "name": "stderr",
     "output_type": "stream",
     "text": [
      "B:\\anaconda\\lib\\site-packages\\IPython\\core\\interactiveshell.py:3020: DtypeWarning: Columns (0,19) have mixed types. Specify dtype option on import or set low_memory=False.\n",
      "  interactivity=interactivity, compiler=compiler, result=result)\n",
      "B:\\anaconda\\lib\\site-packages\\ipykernel_launcher.py:5: SettingWithCopyWarning: \n",
      "A value is trying to be set on a copy of a slice from a DataFrame\n",
      "\n",
      "See the caveats in the documentation: http://pandas.pydata.org/pandas-docs/stable/user_guide/indexing.html#returning-a-view-versus-a-copy\n",
      "  \"\"\"\n"
     ]
    },
    {
     "data": {
      "text/plain": [
       "{'A': 0.15324089988923265,\n",
       " 'B': 0.2628496492367238,\n",
       " 'C': 0.2824991830377415,\n",
       " 'D': 0.18245631904392073,\n",
       " 'E': 0.08539271481863438,\n",
       " 'F': 0.026410161737307376,\n",
       " 'G': 0.007151072236439487}"
      ]
     },
     "execution_count": 2,
     "metadata": {},
     "output_type": "execute_result"
    }
   ],
   "source": [
    "data = pd.read_csv(\"loanStats3c.csv\",encoding='ANSI',header=1)\n",
    "#选出需要的字段\n",
    "data_u=data[['id','grade','annual_inc']]\n",
    "#删掉存在空值的行（删了两行）\n",
    "data_u.dropna(axis=0, how='any', inplace=True)\n",
    "#分层抽样，以分级作groupby\n",
    "gbr = data_u.groupby(\"grade\")\n",
    "a=gbr.agg(np.size)\n",
    "#用按比例的分层抽样，需要一个抽样比例的typicalFracDict,用前两列计数做\n",
    "a[\"frac\"] = a.id/sum(a.id)\n",
    "a=a.reset_index()\n",
    "b = a[[\"grade\",\"frac\"]]\n",
    "fracdict = b.set_index('grade').T.to_dict(\"record\")\n",
    "typicalFracDict=fracdict[0]\n",
    "typicalFracDict"
   ]
  },
  {
   "cell_type": "markdown",
   "metadata": {},
   "source": [
    "画出总体年收入的概率分布图"
   ]
  },
  {
   "cell_type": "code",
   "execution_count": 3,
   "metadata": {},
   "outputs": [
    {
     "name": "stderr",
     "output_type": "stream",
     "text": [
      "B:\\anaconda\\lib\\site-packages\\scipy\\stats\\stats.py:1713: FutureWarning: Using a non-tuple sequence for multidimensional indexing is deprecated; use `arr[tuple(seq)]` instead of `arr[seq]`. In the future this will be interpreted as an array index, `arr[np.array(seq)]`, which will result either in an error or a different result.\n",
      "  return np.add.reduce(sorted[indexer] * weights, axis=axis) / sumval\n"
     ]
    },
    {
     "data": {
      "text/plain": [
       "<matplotlib.axes._subplots.AxesSubplot at 0x24e15195d68>"
      ]
     },
     "execution_count": 3,
     "metadata": {},
     "output_type": "execute_result"
    },
    {
     "data": {
      "image/png": "[encoded data removed]",
      "text/plain": [
       "<Figure size 432x288 with 1 Axes>"
      ]
     },
     "metadata": {
      "needs_background": "light"
     },
     "output_type": "display_data"
    }
   ],
   "source": [
    "#画图。了解分布\n",
    "sns.distplot(data_u.annual_inc,color=\"r\",bins=1000,kde=True,hist=True,rug=True)"
   ]
  },
  {
   "cell_type": "code",
   "execution_count": 4,
   "metadata": {
    "scrolled": true
   },
   "outputs": [
    {
     "data": {
      "text/plain": [
       "(0, 200000)"
      ]
     },
     "execution_count": 4,
     "metadata": {},
     "output_type": "execute_result"
    },
    {
     "data": {
      "image/png": "[encoded data removed]",
      "text/plain": [
       "<Figure size 432x288 with 1 Axes>"
      ]
     },
     "metadata": {
      "needs_background": "light"
     },
     "output_type": "display_data"
    }
   ],
   "source": [
    "#可见有超多极端值，在20w之后频率极低，取年收入小于20w的看一下分布\n",
    "#暂定分组为10w之前10000一组，10w-20w之间50 000一组，20w-40w之间100000一组，40w以上的一组\n",
    "sns.distplot(data_u.annual_inc,color=\"r\",bins=1000,kde=True,hist=True,rug=True)\n",
    "plt.xlim(0,200000)"
   ]
  },
  {
   "cell_type": "markdown",
   "metadata": {},
   "source": [
    "对年收入进行分组"
   ]
  },
  {
   "cell_type": "code",
   "execution_count": 5,
   "metadata": {},
   "outputs": [],
   "source": [
    "# 划定分组的分界值\n",
    "X_dot=[0]\n",
    "for i in range(10000,110000,10000):\n",
    "    X_dot.append(i)\n",
    "X_dot.append(150000)\n",
    "for i in range(200000,500000,100000):\n",
    "    X_dot.append(i)\n",
    "X_dot.append(max(data_u.annual_inc))"
   ]
  },
  {
   "cell_type": "code",
   "execution_count": 6,
   "metadata": {},
   "outputs": [],
   "source": [
    "# 数据放入组中\n",
    "X_group = pd.cut(data_u.annual_inc,bins=X_dot,right=True,retbins=False,include_lowest=False)"
   ]
  },
  {
   "cell_type": "code",
   "execution_count": 7,
   "metadata": {},
   "outputs": [],
   "source": [
    "# 计算频数，利用groupby的方法\n",
    "data=pd.DataFrame(data_u.annual_inc)\n",
    "data[\"group\"]=X_group\n",
    "groupValueSize=data.groupby(X_group).size()\n",
    "pinshulist_T=list(pd.DataFrame(groupValueSize).reset_index().iloc[:,1])"
   ]
  },
  {
   "cell_type": "code",
   "execution_count": 8,
   "metadata": {},
   "outputs": [
    {
     "data": {
      "text/plain": [
       "15"
      ]
     },
     "execution_count": 8,
     "metadata": {},
     "output_type": "execute_result"
    }
   ],
   "source": [
    "len(pinshulist_T)#有15个年收入分组"
   ]
  },
  {
   "cell_type": "markdown",
   "metadata": {},
   "source": [
    "### 2.准备抽样函数"
   ]
  },
  {
   "cell_type": "code",
   "execution_count": 9,
   "metadata": {},
   "outputs": [],
   "source": [
    "#抽样函数\n",
    "#按比例分层抽样，将样本量当作参数传入，可调整\n",
    "samplenum=list(np.trunc(2**np.array(np.arange(5,18,0.2))).astype(np.int32))\n",
    "def typicalSampling(group, typicalFracDict,n):\n",
    "    name = group.name\n",
    "    return group.sample(frac=n/235629)\n",
    "\n",
    "def get_sample_fc(samplenum):\n",
    "    pinshulist_sam1=[]\n",
    "    for i in  samplenum:\n",
    "        result = list(data_u.groupby('grade', group_keys=False).apply(typicalSampling, typicalFracDict,i).annual_inc)\n",
    "        pinshulist_sam1.append(result)\n",
    "    return pinshulist_sam1\n",
    "    \n",
    "#简单随机抽样\n",
    "def get_sample_jd(samplenum):\n",
    "    pinshulist_sam2=[]\n",
    "    for i in samplenum:\n",
    "        result = list(data_u.sample(i).annual_inc)\n",
    "        pinshulist_sam2.append(result)\n",
    "    return pinshulist_sam2"
   ]
  },
  {
   "cell_type": "code",
   "execution_count": 11,
   "metadata": {},
   "outputs": [
    {
     "data": {
      "text/plain": [
       "(65, 228209, 235629)"
      ]
     },
     "execution_count": 11,
     "metadata": {},
     "output_type": "execute_result"
    }
   ],
   "source": [
    "len(samplenum),max(samplenum),len(data_u)"
   ]
  },
  {
   "cell_type": "markdown",
   "metadata": {},
   "source": [
    "### 3.实施分层抽样（每个样本量下50次），并求样本和总体的交叉熵"
   ]
  },
  {
   "cell_type": "code",
   "execution_count": 12,
   "metadata": {},
   "outputs": [],
   "source": [
    "#对抽样出来的数据分组求KL(分层)\n",
    "def get_KL(get_sample_fc):\n",
    "    pinshulist_fc_all=[]\n",
    "    for i in get_sample_fc(samplenum):\n",
    "        X_group = pd.cut(i,bins=X_dot,right=True,retbins=False,include_lowest=False)\n",
    "        data=pd.DataFrame(i)\n",
    "        data[\"group\"]=X_group\n",
    "        groupValueSize=data.groupby(X_group).size()\n",
    "        pinshulist_fc=list(pd.DataFrame(groupValueSize).reset_index().iloc[:,1])\n",
    "        pinshulist_fc_all.append(pinshulist_fc)\n",
    "    #计算交叉熵\n",
    "    shang_fc_l=[]\n",
    "    for i in  pinshulist_fc_all:\n",
    "        shang_fc = scipy.stats.entropy(pinshulist_T, i)\n",
    "        shang_fc_l.append(shang_fc)    \n",
    "    return shang_fc_l"
   ]
  },
  {
   "cell_type": "code",
   "execution_count": 13,
   "metadata": {},
   "outputs": [],
   "source": [
    "#每个样本量下抽取50次(分层)\n",
    "i=0\n",
    "#pinshulist_fc_all_meanpre=[]\n",
    "shang_fc_l_meanpre=[]\n",
    "while i < 50:\n",
    "    get_sample_fc(samplenum)\n",
    "    get_KL(get_sample_fc)\n",
    "    #pinshulist_fc_all_meanpre.append(pinshulist_fc_all)\n",
    "    shang_fc_l_meanpre.append(get_KL(get_sample_fc))\n",
    "    i=i+1"
   ]
  },
  {
   "cell_type": "code",
   "execution_count": 14,
   "metadata": {},
   "outputs": [],
   "source": [
    "t_0=np.array(shang_fc_l_meanpre)\n",
    "arr_ini=np.zeros(65)\n",
    "for i in np.arange(50):\n",
    "    arr = (arr_ini+t_0[i])/50"
   ]
  },
  {
   "cell_type": "code",
   "execution_count": 15,
   "metadata": {},
   "outputs": [
    {
     "data": {
      "text/plain": [
       "(65, 65, 65)"
      ]
     },
     "execution_count": 15,
     "metadata": {},
     "output_type": "execute_result"
    }
   ],
   "source": [
    "len(samplenum),len(shang_fc_l_meanpre[0]),len(arr)"
   ]
  },
  {
   "cell_type": "code",
   "execution_count": 16,
   "metadata": {},
   "outputs": [
    {
     "data": {
      "text/plain": [
       "array([           inf,            inf,            inf,            inf,\n",
       "                  inf,            inf,            inf,            inf,\n",
       "                  inf,            inf,            inf,            inf,\n",
       "                  inf,            inf,            inf,            inf,\n",
       "                  inf,            inf,            inf,            inf,\n",
       "                  inf,            inf,            inf,            inf,\n",
       "                  inf,            inf,            inf,            inf,\n",
       "                  inf,            inf,            inf,            inf,\n",
       "                  inf,            inf,            inf,            inf,\n",
       "                  inf,            inf, 1.51806131e-04,            inf,\n",
       "       2.25216786e-05, 5.70409885e-05, 4.56618287e-05, 4.54820776e-05,\n",
       "       3.00681507e-05,            inf, 3.33495717e-05, 4.05357942e-05,\n",
       "       2.38188350e-05, 2.15568528e-05, 2.16385763e-05, 1.82072328e-05,\n",
       "       1.15789972e-05, 7.71353122e-06, 1.19098747e-05, 1.86752435e-05,\n",
       "       1.04062178e-05, 1.04922133e-05, 6.57367482e-06, 6.18791932e-06,\n",
       "       3.27088156e-06, 6.80707565e-06, 7.58706299e-06, 1.91874640e-06,\n",
       "       4.38619748e-06])"
      ]
     },
     "execution_count": 16,
     "metadata": {},
     "output_type": "execute_result"
    }
   ],
   "source": [
    "arr"
   ]
  },
  {
   "cell_type": "code",
   "execution_count": 26,
   "metadata": {},
   "outputs": [
    {
     "data": {
      "text/plain": [
       "(0, 0.0001)"
      ]
     },
     "execution_count": 26,
     "metadata": {},
     "output_type": "execute_result"
    },
    {
     "data": {
      "image/png": "[encoded data removed]",
      "text/plain": [
       "<Figure size 432x288 with 1 Axes>"
      ]
     },
     "metadata": {
      "needs_background": "light"
     },
     "output_type": "display_data"
    }
   ],
   "source": [
    "#画图\n",
    "#按不同样本量抽样次，画图y是交叉熵的值,x是样本量\n",
    "plt.scatter(samplenum,arr)\n",
    "plt.xlabel('样本量')\n",
    "plt.ylabel('KL散度')\n",
    "plt.title('使用KL散度度量的不同样本量下按比例分层抽样效果')\n",
    "plt.rcParams['font.sans-serif']=['SimHei'] #用来正常显示中文标签\n",
    "plt.ylim(0,0.0001)"
   ]
  },
  {
   "cell_type": "code",
   "execution_count": 18,
   "metadata": {},
   "outputs": [
    {
     "data": {
      "text/plain": [
       "array([           inf,            inf,            inf,            inf,\n",
       "                  inf,            inf,            inf,            inf,\n",
       "                  inf,            inf,            inf,            inf,\n",
       "                  inf,            inf,            inf,            inf,\n",
       "                  inf,            inf,            inf,            inf,\n",
       "                  inf,            inf,            inf,            inf,\n",
       "                  inf,            inf,            inf,            inf,\n",
       "                  inf,            inf,            inf,            inf,\n",
       "                  inf,            inf,            inf,            inf,\n",
       "                  inf,            inf, 1.51806131e-04,            inf,\n",
       "       2.25216786e-05, 5.70409885e-05, 4.56618287e-05, 4.54820776e-05,\n",
       "       3.00681507e-05,            inf, 3.33495717e-05, 4.05357942e-05,\n",
       "       2.38188350e-05, 2.15568528e-05, 2.16385763e-05, 1.82072328e-05,\n",
       "       1.15789972e-05, 7.71353122e-06, 1.19098747e-05, 1.86752435e-05,\n",
       "       1.04062178e-05, 1.04922133e-05, 6.57367482e-06, 6.18791932e-06,\n",
       "       3.27088156e-06, 6.80707565e-06, 7.58706299e-06, 1.91874640e-06,\n",
       "       4.38619748e-06])"
      ]
     },
     "execution_count": 18,
     "metadata": {},
     "output_type": "execute_result"
    }
   ],
   "source": [
    "arr"
   ]
  },
  {
   "cell_type": "code",
   "execution_count": 27,
   "metadata": {},
   "outputs": [
    {
     "data": {
      "text/plain": [
       "6208"
      ]
     },
     "execution_count": 27,
     "metadata": {},
     "output_type": "execute_result"
    }
   ],
   "source": [
    "samplenum[38]"
   ]
  },
  {
   "cell_type": "markdown",
   "metadata": {},
   "source": [
    "### 3.实施简单随机抽样（每个样本量下50次），并求样本和总体的交叉熵# "
   ]
  },
  {
   "cell_type": "code",
   "execution_count": 19,
   "metadata": {},
   "outputs": [],
   "source": [
    "#简单随机\n",
    "def get_KL(get_sample_jd):\n",
    "    pinshulist_jd_all=[]\n",
    "    for i in get_sample_jd(samplenum):\n",
    "        X_group = pd.cut(i,bins=X_dot,right=True,retbins=False,include_lowest=False)\n",
    "        data=pd.DataFrame(i)\n",
    "        data[\"group\"]=X_group\n",
    "        groupValueSize=data.groupby(X_group).size()\n",
    "        pinshulist_jd=list(pd.DataFrame(groupValueSize).reset_index().iloc[:,1])\n",
    "        pinshulist_jd_all.append(pinshulist_jd)    \n",
    "     #计算交叉熵\n",
    "    shang_jd_l=[]\n",
    "    for i in  pinshulist_jd_all:\n",
    "        shang_jd = scipy.stats.entropy(pinshulist_T, i)\n",
    "        shang_jd_l.append(shang_jd)\n",
    "    return shang_jd_l"
   ]
  },
  {
   "cell_type": "code",
   "execution_count": 20,
   "metadata": {},
   "outputs": [],
   "source": [
    "i=0\n",
    "#pinshulist_jd_all_meanpre=[]\n",
    "shang_jd_l_meanpre=[]\n",
    "while i < 50:\n",
    "    get_sample_fc(samplenum)\n",
    "    get_KL(get_sample_jd)\n",
    "    #pinshulist_jd_all_meanpre.append(pinshulist_jd_all)\n",
    "    shang_jd_l_meanpre.append(get_KL(get_sample_jd))\n",
    "    i=i+1"
   ]
  },
  {
   "cell_type": "code",
   "execution_count": 21,
   "metadata": {},
   "outputs": [],
   "source": [
    "j_0=np.array(shang_jd_l_meanpre)\n",
    "arr_ini=np.zeros(65)\n",
    "for i in np.arange(50):\n",
    "    arr1 = (arr_ini+j_0[i])/50"
   ]
  },
  {
   "cell_type": "code",
   "execution_count": 24,
   "metadata": {},
   "outputs": [
    {
     "data": {
      "text/plain": [
       "(0, 0.0001)"
      ]
     },
     "execution_count": 24,
     "metadata": {},
     "output_type": "execute_result"
    },
    {
     "data": {
      "image/png": "[encoded data removed]",
      "text/plain": [
       "<Figure size 432x288 with 1 Axes>"
      ]
     },
     "metadata": {
      "needs_background": "light"
     },
     "output_type": "display_data"
    }
   ],
   "source": [
    "plt.scatter(samplenum,arr1)\n",
    "plt.xlabel('样本量')\n",
    "plt.ylabel('KL散度')\n",
    "plt.title('使用KL散度度量的不同样本量下简单随机抽样效果')\n",
    "plt.rcParams['font.sans-serif']=['SimHei'] #用来正常显示中文标签\n",
    "plt.ylim(0,0.0001)"
   ]
  },
  {
   "cell_type": "code",
   "execution_count": 23,
   "metadata": {},
   "outputs": [
    {
     "data": {
      "text/plain": [
       "array([           inf,            inf,            inf,            inf,\n",
       "                  inf,            inf,            inf,            inf,\n",
       "                  inf,            inf,            inf,            inf,\n",
       "                  inf,            inf,            inf,            inf,\n",
       "                  inf,            inf,            inf,            inf,\n",
       "       2.27578357e-04,            inf,            inf,            inf,\n",
       "       2.13477595e-04,            inf, 1.14992127e-04, 1.57462610e-04,\n",
       "       1.10599215e-04,            inf, 5.21772670e-05,            inf,\n",
       "       3.92994020e-05, 4.23944107e-05, 4.24243584e-05, 8.23654892e-06,\n",
       "       1.33185198e-05, 2.66151760e-05, 3.61606661e-05, 3.52905062e-05,\n",
       "       1.00058211e-05, 1.62288466e-05, 1.02892160e-05, 6.80291928e-06,\n",
       "       7.23659840e-06, 4.78940203e-06, 6.97030431e-06, 1.12446297e-05,\n",
       "       1.13737128e-05, 5.46242802e-06, 1.83153805e-06, 8.90353411e-07,\n",
       "       2.33183610e-06, 2.00138477e-06, 3.18651733e-06, 1.06882196e-06,\n",
       "       1.88255185e-06, 1.04641418e-06, 1.00155713e-06, 5.39259191e-07,\n",
       "       3.78557353e-07, 5.22491182e-07, 1.40931412e-07, 8.20696209e-08,\n",
       "       9.04073126e-09])"
      ]
     },
     "execution_count": 23,
     "metadata": {},
     "output_type": "execute_result"
    }
   ],
   "source": [
    "arr1"
   ]
  },
  {
   "cell_type": "code",
   "execution_count": 28,
   "metadata": {},
   "outputs": [
    {
     "data": {
      "text/plain": [
       "588"
      ]
     },
     "execution_count": 28,
     "metadata": {},
     "output_type": "execute_result"
    }
   ],
   "source": [
    "samplenum[21]"
   ]
  },
  {
   "cell_type": "markdown",
   "metadata": {},
   "source": [
    "注：相对熵（relative entropy），又被称为Kullback-Leibler散度（Kullback-Leibler divergence）或信息散度（information divergence），是两个概率分布（probability distribution）间差异的非对称性度量，在信息论中相对熵等价于两个概率分布的信息熵（Shannon entropy）的差值。故该值越小表示两个分布越接近，即抽样效果越好"
   ]
  },
  {
   "cell_type": "markdown",
   "metadata": {},
   "source": [
    "此例中分层抽样略优于简单随机抽样，以KL散度达到e-04的水平作为衡量标准，则按比例分层抽样需要的样本量为1024，简单随机抽样需要的样本量为1341"
   ]
  }
 ],
 "metadata": {
  "kernelspec": {
   "display_name": "Python 3",
   "language": "python",
   "name": "python3"
  },
  "language_info": {
   "codemirror_mode": {
    "name": "ipython",
    "version": 3.0
   },
   "file_extension": ".py",
   "mimetype": "text/x-python",
   "name": "python",
   "nbconvert_exporter": "python",
   "pygments_lexer": "ipython3",
   "version": "3.7.1"
  }
 },
 "nbformat": 4,
 "nbformat_minor": 0
}